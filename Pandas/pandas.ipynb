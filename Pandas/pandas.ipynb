{
 "cells": [
  {
   "cell_type": "code",
   "execution_count": 1,
   "metadata": {},
   "outputs": [],
   "source": [
    "import pandas as pd\n",
    "import numpy as np"
   ]
  },
  {
   "cell_type": "code",
   "execution_count": 2,
   "metadata": {},
   "outputs": [
    {
     "name": "stdout",
     "output_type": "stream",
     "text": [
      "      name  Age  Salary\n",
      "0  Shubham   21   50000\n",
      "1    Kunal   17   55000\n",
      "2     Mark   35   60000\n"
     ]
    }
   ],
   "source": [
    "# Creating dataframes\n",
    "data = {\n",
    "    \"name\":[\"Shubham\",\"Kunal\",\"Mark\"],\n",
    "    \"Age\":[21,17,35],\n",
    "    \"Salary\":[50000,55000,60000]\n",
    "}\n",
    "\n",
    "df = pd.DataFrame(data)\n",
    "print(df)"
   ]
  },
  {
   "cell_type": "code",
   "execution_count": 6,
   "metadata": {},
   "outputs": [
    {
     "name": "stdout",
     "output_type": "stream",
     "text": [
      "   Unnamed: 0      Name gender  salary\n",
      "0           0    ayushi      F   20000\n",
      "1           1     rohit      M   25000\n",
      "2           2  pranjali      F   27000\n"
     ]
    }
   ],
   "source": [
    "# Read csv file\n",
    "csv_data = pd.read_csv(\"company.csv\")\n",
    "print(csv_data)"
   ]
  },
  {
   "cell_type": "code",
   "execution_count": 8,
   "metadata": {},
   "outputs": [
    {
     "name": "stdout",
     "output_type": "stream",
     "text": [
      "         Date    Category       Sub-Category   Amount Payment Mode\n",
      "0  2023-01-01     Grocery             Grocery      30         Cash\n",
      "1  2023-01-02        Food          Restaurant     890          UPI\n",
      "2  2023-01-04         123              Zomato     257          NaN\n",
      "3  2023-01-06  Essentials               Diary     120          UPI\n",
      "4  2023-01-06  Essentials             Perfume    1500         Cash\n",
      "5  2023-01-09     Grocery  Fruits and Veggies     456         Cash\n",
      "6  2023-01-10       Bills          House Rent   16000          UPI\n",
      "7  2023-01-10     Grocery      Tomato KetchUp      70          UPI\n",
      "8  2023-01-12        Food                Chai      15          UPI\n",
      "9  2023-01-15  Essentials      Salt and Sugar      50          NaN\n",
      "10 2023-01-17     Grocery           Chocolate     100          UPI\n",
      "11 2023-01-17        Food          Restaurant     780         Card\n",
      "12 2023-01-18  Essentials            Food Oil     120          NaN\n",
      "13 2023-01-18        Food              Zomato     230          UPI\n",
      "14 2023-01-19     Grocery                Milk      26          UPI\n",
      "15 2023-01-20  Essentials             Shampoo     780          UPI\n",
      "16 2023-01-20  Essentials           Lunch Box     890         Cash\n",
      "17 2023-01-21     Clothes               Dress    1000          NaN\n",
      "18 2023-01-22     Clothes               Dress    1890          UPI\n",
      "19 2023-01-23     Grocery      Bread and Milk      56         Cash\n",
      "20 2023-01-24        Food  Fruits and Veggies     530         Cash\n",
      "21 2023-01-26        Food                Chai      10          UPI\n",
      "22 2023-01-26     Grocery               Maggi     140          UPI\n",
      "23 2023-01-27        Food              Zomato     300          UPI\n",
      "24 2023-01-27        Food                Chai      10          UPI\n",
      "25 2023-01-28  Essentials           Bedsheets    1025         Cash\n",
      "26 2023-01-29       Bills             Mobile     1650          UPI\n",
      "27 2023-01-29     Grocery                Daal     150         Cash\n",
      "28 2023-01-30       Bills            Cylinder    1074          UPI\n"
     ]
    }
   ],
   "source": [
    "# we install openpyxl to read excel files\n",
    "data = pd.read_excel(\"expense3.xlsx\")\n",
    "print(data)"
   ]
  },
  {
   "cell_type": "code",
   "execution_count": 10,
   "metadata": {},
   "outputs": [
    {
     "name": "stdout",
     "output_type": "stream",
     "text": [
      "        Date    Category       Sub-Category   Amount Payment Mode\n",
      "0 2023-01-01     Grocery             Grocery      30         Cash\n",
      "1 2023-01-02        Food          Restaurant     890          UPI\n",
      "2 2023-01-04         123              Zomato     257          NaN\n",
      "3 2023-01-06  Essentials               Diary     120          UPI\n",
      "4 2023-01-06  Essentials             Perfume    1500         Cash\n",
      "5 2023-01-09     Grocery  Fruits and Veggies     456         Cash\n",
      "6 2023-01-10       Bills          House Rent   16000          UPI\n",
      "7 2023-01-10     Grocery      Tomato KetchUp      70          UPI\n",
      "8 2023-01-12        Food                Chai      15          UPI\n",
      "9 2023-01-15  Essentials      Salt and Sugar      50          NaN\n",
      "         Date    Category       Sub-Category   Amount Payment Mode\n",
      "19 2023-01-23     Grocery      Bread and Milk      56         Cash\n",
      "20 2023-01-24        Food  Fruits and Veggies     530         Cash\n",
      "21 2023-01-26        Food                Chai      10          UPI\n",
      "22 2023-01-26     Grocery               Maggi     140          UPI\n",
      "23 2023-01-27        Food              Zomato     300          UPI\n",
      "24 2023-01-27        Food                Chai      10          UPI\n",
      "25 2023-01-28  Essentials           Bedsheets    1025         Cash\n",
      "26 2023-01-29       Bills             Mobile     1650          UPI\n",
      "27 2023-01-29     Grocery                Daal     150         Cash\n",
      "28 2023-01-30       Bills            Cylinder    1074          UPI\n"
     ]
    }
   ],
   "source": [
    "# Data exploration\n",
    "print(data.head(10))  # returns first 10 values\n",
    "print(data.tail(10))  # returns last 10 values\n"
   ]
  },
  {
   "cell_type": "code",
   "execution_count": 11,
   "metadata": {},
   "outputs": [
    {
     "name": "stdout",
     "output_type": "stream",
     "text": [
      "<class 'pandas.core.frame.DataFrame'>\n",
      "RangeIndex: 29 entries, 0 to 28\n",
      "Data columns (total 5 columns):\n",
      " #   Column         Non-Null Count  Dtype         \n",
      "---  ------         --------------  -----         \n",
      " 0   Date           29 non-null     datetime64[ns]\n",
      " 1   Category       29 non-null     object        \n",
      " 2   Sub-Category   29 non-null     object        \n",
      " 3   Amount         29 non-null     int64         \n",
      " 4   Payment Mode   25 non-null     object        \n",
      "dtypes: datetime64[ns](1), int64(1), object(3)\n",
      "memory usage: 1.3+ KB\n",
      "None\n"
     ]
    }
   ],
   "source": [
    "# info about data\n",
    "print(data.info())"
   ]
  },
  {
   "cell_type": "code",
   "execution_count": 12,
   "metadata": {},
   "outputs": [
    {
     "name": "stdout",
     "output_type": "stream",
     "text": [
      "                                Date        Amount\n",
      "count                             29     29.000000\n",
      "mean   2023-01-17 19:02:04.137931008   1039.620690\n",
      "min              2023-01-01 00:00:00     10.000000\n",
      "25%              2023-01-10 00:00:00     70.000000\n",
      "50%              2023-01-19 00:00:00    257.000000\n",
      "75%              2023-01-26 00:00:00    890.000000\n",
      "max              2023-01-30 00:00:00  16000.000000\n",
      "std                              NaN   2927.684353\n"
     ]
    }
   ],
   "source": [
    "# To gain statistical insights of data\n",
    "print(data.describe())"
   ]
  },
  {
   "cell_type": "code",
   "execution_count": 24,
   "metadata": {},
   "outputs": [
    {
     "name": "stdout",
     "output_type": "stream",
     "text": [
      "     Date  Category  Sub-Category   Amount  Payment Mode\n",
      "0   False     False          False   False         False\n",
      "1   False     False          False   False         False\n",
      "2   False     False          False   False          True\n",
      "3   False     False          False   False         False\n",
      "4   False     False          False   False         False\n",
      "5   False     False          False   False         False\n",
      "6   False     False          False   False         False\n",
      "7   False     False          False   False         False\n",
      "8   False     False          False   False         False\n",
      "9   False     False          False   False          True\n",
      "10  False     False          False   False         False\n",
      "11  False     False          False   False         False\n",
      "12  False     False          False   False          True\n",
      "13  False     False          False   False         False\n",
      "14  False     False          False   False         False\n",
      "15  False     False          False   False         False\n",
      "16  False     False          False   False         False\n",
      "17  False     False          False   False          True\n",
      "18  False     False          False   False         False\n",
      "19  False     False          False   False         False\n",
      "20  False     False          False   False         False\n",
      "21  False     False          False   False         False\n",
      "22  False     False          False   False         False\n",
      "23  False     False          False   False         False\n",
      "24  False     False          False   False         False\n",
      "25  False     False          False   False         False\n",
      "26  False     False          False   False         False\n",
      "27  False     False          False   False         False\n",
      "28  False     False          False   False         False\n",
      "Date             0\n",
      "Category         0\n",
      "Sub-Category     0\n",
      "Amount           0\n",
      "Payment Mode     4\n",
      "dtype: int64\n",
      "         Date    Category       Sub-Category   Amount Payment Mode\n",
      "0  2023-01-01     Grocery             Grocery      30         Cash\n",
      "1  2023-01-02        Food          Restaurant     890          UPI\n",
      "2  2023-01-04         123              Zomato     257           hi\n",
      "3  2023-01-06  Essentials               Diary     120          UPI\n",
      "4  2023-01-06  Essentials             Perfume    1500         Cash\n",
      "5  2023-01-09     Grocery  Fruits and Veggies     456         Cash\n",
      "6  2023-01-10       Bills          House Rent   16000          UPI\n",
      "7  2023-01-10     Grocery      Tomato KetchUp      70          UPI\n",
      "8  2023-01-12        Food                Chai      15          UPI\n",
      "9  2023-01-15  Essentials      Salt and Sugar      50           hi\n",
      "10 2023-01-17     Grocery           Chocolate     100          UPI\n",
      "11 2023-01-17        Food          Restaurant     780         Card\n",
      "12 2023-01-18  Essentials            Food Oil     120           hi\n",
      "13 2023-01-18        Food              Zomato     230          UPI\n",
      "14 2023-01-19     Grocery                Milk      26          UPI\n",
      "15 2023-01-20  Essentials             Shampoo     780          UPI\n",
      "16 2023-01-20  Essentials           Lunch Box     890         Cash\n",
      "17 2023-01-21     Clothes               Dress    1000           hi\n",
      "18 2023-01-22     Clothes               Dress    1890          UPI\n",
      "19 2023-01-23     Grocery      Bread and Milk      56         Cash\n",
      "20 2023-01-24        Food  Fruits and Veggies     530         Cash\n",
      "21 2023-01-26        Food                Chai      10          UPI\n",
      "22 2023-01-26     Grocery               Maggi     140          UPI\n",
      "23 2023-01-27        Food              Zomato     300          UPI\n",
      "24 2023-01-27        Food                Chai      10          UPI\n",
      "25 2023-01-28  Essentials           Bedsheets    1025         Cash\n",
      "26 2023-01-29       Bills             Mobile     1650          UPI\n",
      "27 2023-01-29     Grocery                Daal     150         Cash\n",
      "28 2023-01-30       Bills            Cylinder    1074          UPI\n",
      "1039.6206896551723\n"
     ]
    },
    {
     "name": "stderr",
     "output_type": "stream",
     "text": [
      "C:\\Users\\hp\\AppData\\Local\\Temp\\ipykernel_16624\\3103889694.py:22: FutureWarning: Series.fillna with 'method' is deprecated and will raise in a future version. Use obj.ffill() or obj.bfill() instead.\n",
      "  data[\"Payment Mode\"].fillna(method='bfill')   # forwards filling\n",
      "C:\\Users\\hp\\AppData\\Local\\Temp\\ipykernel_16624\\3103889694.py:23: FutureWarning: Series.fillna with 'method' is deprecated and will raise in a future version. Use obj.ffill() or obj.bfill() instead.\n",
      "  data['Payment Mode'].fillna(method='ffill')    # backward filling\n"
     ]
    },
    {
     "data": {
      "text/plain": [
       "0     Cash\n",
       "1      UPI\n",
       "2       hi\n",
       "3      UPI\n",
       "4     Cash\n",
       "5     Cash\n",
       "6      UPI\n",
       "7      UPI\n",
       "8      UPI\n",
       "9       hi\n",
       "10     UPI\n",
       "11    Card\n",
       "12      hi\n",
       "13     UPI\n",
       "14     UPI\n",
       "15     UPI\n",
       "16    Cash\n",
       "17      hi\n",
       "18     UPI\n",
       "19    Cash\n",
       "20    Cash\n",
       "21     UPI\n",
       "22     UPI\n",
       "23     UPI\n",
       "24     UPI\n",
       "25    Cash\n",
       "26     UPI\n",
       "27    Cash\n",
       "28     UPI\n",
       "Name: Payment Mode, dtype: object"
      ]
     },
     "execution_count": 24,
     "metadata": {},
     "output_type": "execute_result"
    }
   ],
   "source": [
    "# Handling null values\n",
    "\n",
    "print(data.isnull())  # Returns true in case of null value\n",
    "print(data.isnull().sum())  # returns count of null values column wise\n",
    "\n",
    "# to delete null values\n",
    "data.dropna()\n",
    "\n",
    "#  or fill with some specific value \n",
    "data.fillna('Missing')\n",
    "\n",
    "# to replace the null values\n",
    "print(data.replace(np.nan,\"hi\"))\n",
    "\n",
    "# specific col\n",
    "data[\"Amount\"] = data[\"Amount\"].replace(np.nan,30000)\n",
    "\n",
    "# instead random value fill with mean\n",
    "print(data[\"Amount\"].mean())\n",
    "\n",
    "# if data is non integer we can use forward or backward fill method \n",
    "data[\"Payment Mode\"].fillna(method='bfill')   # forwards filling \n",
    "data['Payment Mode'].fillna(method='ffill')    # backward filling\n",
    "data[\"Payment Mode\"].fillna(\"hi\") # can also work like replace"
   ]
  },
  {
   "cell_type": "code",
   "execution_count": 18,
   "metadata": {},
   "outputs": [
    {
     "name": "stdout",
     "output_type": "stream",
     "text": [
      "4\n",
      "         Date    Category       Sub-Category   Amount Payment Mode\n",
      "0  2023-01-01     Grocery             Grocery      30         Cash\n",
      "1  2023-01-02        Food          Restaurant     890          UPI\n",
      "2  2023-01-04         123              Zomato     257          NaN\n",
      "3  2023-01-06  Essentials               Diary     120          UPI\n",
      "4  2023-01-06  Essentials             Perfume    1500         Cash\n",
      "5  2023-01-09     Grocery  Fruits and Veggies     456         Cash\n",
      "6  2023-01-10       Bills          House Rent   16000          UPI\n",
      "7  2023-01-10     Grocery      Tomato KetchUp      70          UPI\n",
      "8  2023-01-12        Food                Chai      15          UPI\n",
      "9  2023-01-15  Essentials      Salt and Sugar      50          NaN\n",
      "10 2023-01-17     Grocery           Chocolate     100          UPI\n",
      "11 2023-01-17        Food          Restaurant     780         Card\n",
      "13 2023-01-18        Food              Zomato     230          UPI\n",
      "14 2023-01-19     Grocery                Milk      26          UPI\n",
      "17 2023-01-21     Clothes               Dress    1000          NaN\n",
      "18 2023-01-22     Clothes               Dress    1890          UPI\n",
      "19 2023-01-23     Grocery      Bread and Milk      56         Cash\n",
      "20 2023-01-24        Food  Fruits and Veggies     530         Cash\n",
      "21 2023-01-26        Food                Chai      10          UPI\n",
      "22 2023-01-26     Grocery               Maggi     140          UPI\n",
      "23 2023-01-27        Food              Zomato     300          UPI\n",
      "25 2023-01-28  Essentials           Bedsheets    1025         Cash\n",
      "26 2023-01-29       Bills             Mobile     1650          UPI\n",
      "27 2023-01-29     Grocery                Daal     150         Cash\n",
      "28 2023-01-30       Bills            Cylinder    1074          UPI\n"
     ]
    }
   ],
   "source": [
    "# To check duplicate values\n",
    "print(data[\"Amount\"].duplicated().sum()) # returns duplicate values in Amount column\n",
    "print(data.drop_duplicates(\"Amount\")) # deletes the duplicate value rows"
   ]
  }
 ],
 "metadata": {
  "kernelspec": {
   "display_name": "Python 3",
   "language": "python",
   "name": "python3"
  },
  "language_info": {
   "codemirror_mode": {
    "name": "ipython",
    "version": 3
   },
   "file_extension": ".py",
   "mimetype": "text/x-python",
   "name": "python",
   "nbconvert_exporter": "python",
   "pygments_lexer": "ipython3",
   "version": "3.11.7"
  }
 },
 "nbformat": 4,
 "nbformat_minor": 2
}
