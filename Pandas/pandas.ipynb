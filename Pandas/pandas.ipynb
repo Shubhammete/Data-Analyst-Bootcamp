{
 "cells": [
  {
   "cell_type": "code",
   "execution_count": 3,
   "metadata": {},
   "outputs": [],
   "source": [
    "import pandas as pd\n"
   ]
  },
  {
   "cell_type": "code",
   "execution_count": 4,
   "metadata": {},
   "outputs": [
    {
     "name": "stdout",
     "output_type": "stream",
     "text": [
      "      name  Age  Salary\n",
      "0  Shubham   21   50000\n",
      "1    Kunal   17   55000\n",
      "2     Mark   35   60000\n"
     ]
    }
   ],
   "source": [
    "# Creating dataframes\n",
    "data = {\n",
    "    \"name\":[\"Shubham\",\"Kunal\",\"Mark\"],\n",
    "    \"Age\":[21,17,35],\n",
    "    \"Salary\":[50000,55000,60000]\n",
    "}\n",
    "\n",
    "df = pd.DataFrame(data)\n",
    "print(df)"
   ]
  },
  {
   "cell_type": "code",
   "execution_count": 6,
   "metadata": {},
   "outputs": [
    {
     "name": "stdout",
     "output_type": "stream",
     "text": [
      "   Unnamed: 0      Name gender  salary\n",
      "0           0    ayushi      F   20000\n",
      "1           1     rohit      M   25000\n",
      "2           2  pranjali      F   27000\n"
     ]
    }
   ],
   "source": [
    "# Read csv file\n",
    "csv_data = pd.read_csv(\"company.csv\")\n",
    "print(csv_data)"
   ]
  },
  {
   "cell_type": "code",
   "execution_count": 8,
   "metadata": {},
   "outputs": [
    {
     "name": "stdout",
     "output_type": "stream",
     "text": [
      "         Date    Category       Sub-Category   Amount Payment Mode\n",
      "0  2023-01-01     Grocery             Grocery      30         Cash\n",
      "1  2023-01-02        Food          Restaurant     890          UPI\n",
      "2  2023-01-04         123              Zomato     257          NaN\n",
      "3  2023-01-06  Essentials               Diary     120          UPI\n",
      "4  2023-01-06  Essentials             Perfume    1500         Cash\n",
      "5  2023-01-09     Grocery  Fruits and Veggies     456         Cash\n",
      "6  2023-01-10       Bills          House Rent   16000          UPI\n",
      "7  2023-01-10     Grocery      Tomato KetchUp      70          UPI\n",
      "8  2023-01-12        Food                Chai      15          UPI\n",
      "9  2023-01-15  Essentials      Salt and Sugar      50          NaN\n",
      "10 2023-01-17     Grocery           Chocolate     100          UPI\n",
      "11 2023-01-17        Food          Restaurant     780         Card\n",
      "12 2023-01-18  Essentials            Food Oil     120          NaN\n",
      "13 2023-01-18        Food              Zomato     230          UPI\n",
      "14 2023-01-19     Grocery                Milk      26          UPI\n",
      "15 2023-01-20  Essentials             Shampoo     780          UPI\n",
      "16 2023-01-20  Essentials           Lunch Box     890         Cash\n",
      "17 2023-01-21     Clothes               Dress    1000          NaN\n",
      "18 2023-01-22     Clothes               Dress    1890          UPI\n",
      "19 2023-01-23     Grocery      Bread and Milk      56         Cash\n",
      "20 2023-01-24        Food  Fruits and Veggies     530         Cash\n",
      "21 2023-01-26        Food                Chai      10          UPI\n",
      "22 2023-01-26     Grocery               Maggi     140          UPI\n",
      "23 2023-01-27        Food              Zomato     300          UPI\n",
      "24 2023-01-27        Food                Chai      10          UPI\n",
      "25 2023-01-28  Essentials           Bedsheets    1025         Cash\n",
      "26 2023-01-29       Bills             Mobile     1650          UPI\n",
      "27 2023-01-29     Grocery                Daal     150         Cash\n",
      "28 2023-01-30       Bills            Cylinder    1074          UPI\n"
     ]
    }
   ],
   "source": [
    "# we install openpyxl to read excel files\n",
    "data = pd.read_excel(\"expense3.xlsx\")\n",
    "print(data)"
   ]
  },
  {
   "cell_type": "code",
   "execution_count": 10,
   "metadata": {},
   "outputs": [
    {
     "name": "stdout",
     "output_type": "stream",
     "text": [
      "        Date    Category       Sub-Category   Amount Payment Mode\n",
      "0 2023-01-01     Grocery             Grocery      30         Cash\n",
      "1 2023-01-02        Food          Restaurant     890          UPI\n",
      "2 2023-01-04         123              Zomato     257          NaN\n",
      "3 2023-01-06  Essentials               Diary     120          UPI\n",
      "4 2023-01-06  Essentials             Perfume    1500         Cash\n",
      "5 2023-01-09     Grocery  Fruits and Veggies     456         Cash\n",
      "6 2023-01-10       Bills          House Rent   16000          UPI\n",
      "7 2023-01-10     Grocery      Tomato KetchUp      70          UPI\n",
      "8 2023-01-12        Food                Chai      15          UPI\n",
      "9 2023-01-15  Essentials      Salt and Sugar      50          NaN\n",
      "         Date    Category       Sub-Category   Amount Payment Mode\n",
      "19 2023-01-23     Grocery      Bread and Milk      56         Cash\n",
      "20 2023-01-24        Food  Fruits and Veggies     530         Cash\n",
      "21 2023-01-26        Food                Chai      10          UPI\n",
      "22 2023-01-26     Grocery               Maggi     140          UPI\n",
      "23 2023-01-27        Food              Zomato     300          UPI\n",
      "24 2023-01-27        Food                Chai      10          UPI\n",
      "25 2023-01-28  Essentials           Bedsheets    1025         Cash\n",
      "26 2023-01-29       Bills             Mobile     1650          UPI\n",
      "27 2023-01-29     Grocery                Daal     150         Cash\n",
      "28 2023-01-30       Bills            Cylinder    1074          UPI\n"
     ]
    }
   ],
   "source": [
    "# Data exploration\n",
    "print(data.head(10))  # returns first 10 values\n",
    "print(data.tail(10))  # returns last 10 values\n"
   ]
  },
  {
   "cell_type": "code",
   "execution_count": 11,
   "metadata": {},
   "outputs": [
    {
     "name": "stdout",
     "output_type": "stream",
     "text": [
      "<class 'pandas.core.frame.DataFrame'>\n",
      "RangeIndex: 29 entries, 0 to 28\n",
      "Data columns (total 5 columns):\n",
      " #   Column         Non-Null Count  Dtype         \n",
      "---  ------         --------------  -----         \n",
      " 0   Date           29 non-null     datetime64[ns]\n",
      " 1   Category       29 non-null     object        \n",
      " 2   Sub-Category   29 non-null     object        \n",
      " 3   Amount         29 non-null     int64         \n",
      " 4   Payment Mode   25 non-null     object        \n",
      "dtypes: datetime64[ns](1), int64(1), object(3)\n",
      "memory usage: 1.3+ KB\n",
      "None\n"
     ]
    }
   ],
   "source": [
    "# info about data\n",
    "print(data.info())"
   ]
  },
  {
   "cell_type": "code",
   "execution_count": 12,
   "metadata": {},
   "outputs": [
    {
     "name": "stdout",
     "output_type": "stream",
     "text": [
      "                                Date        Amount\n",
      "count                             29     29.000000\n",
      "mean   2023-01-17 19:02:04.137931008   1039.620690\n",
      "min              2023-01-01 00:00:00     10.000000\n",
      "25%              2023-01-10 00:00:00     70.000000\n",
      "50%              2023-01-19 00:00:00    257.000000\n",
      "75%              2023-01-26 00:00:00    890.000000\n",
      "max              2023-01-30 00:00:00  16000.000000\n",
      "std                              NaN   2927.684353\n"
     ]
    }
   ],
   "source": [
    "# To gain statistical insights of data\n",
    "print(data.describe())"
   ]
  },
  {
   "cell_type": "code",
   "execution_count": 14,
   "metadata": {},
   "outputs": [
    {
     "name": "stdout",
     "output_type": "stream",
     "text": [
      "     Date  Category  Sub-Category   Amount  Payment Mode\n",
      "0   False     False          False   False         False\n",
      "1   False     False          False   False         False\n",
      "2   False     False          False   False          True\n",
      "3   False     False          False   False         False\n",
      "4   False     False          False   False         False\n",
      "5   False     False          False   False         False\n",
      "6   False     False          False   False         False\n",
      "7   False     False          False   False         False\n",
      "8   False     False          False   False         False\n",
      "9   False     False          False   False          True\n",
      "10  False     False          False   False         False\n",
      "11  False     False          False   False         False\n",
      "12  False     False          False   False          True\n",
      "13  False     False          False   False         False\n",
      "14  False     False          False   False         False\n",
      "15  False     False          False   False         False\n",
      "16  False     False          False   False         False\n",
      "17  False     False          False   False          True\n",
      "18  False     False          False   False         False\n",
      "19  False     False          False   False         False\n",
      "20  False     False          False   False         False\n",
      "21  False     False          False   False         False\n",
      "22  False     False          False   False         False\n",
      "23  False     False          False   False         False\n",
      "24  False     False          False   False         False\n",
      "25  False     False          False   False         False\n",
      "26  False     False          False   False         False\n",
      "27  False     False          False   False         False\n",
      "28  False     False          False   False         False\n",
      "Date             0\n",
      "Category         0\n",
      "Sub-Category     0\n",
      "Amount           0\n",
      "Payment Mode     4\n",
      "dtype: int64\n"
     ]
    }
   ],
   "source": [
    "# To check null values\n",
    "print(data.isnull())  # Returns true in case of null value\n",
    "print(data.isnull().sum())  # returns count of null values column wise"
   ]
  }
 ],
 "metadata": {
  "kernelspec": {
   "display_name": "Python 3",
   "language": "python",
   "name": "python3"
  },
  "language_info": {
   "codemirror_mode": {
    "name": "ipython",
    "version": 3
   },
   "file_extension": ".py",
   "mimetype": "text/x-python",
   "name": "python",
   "nbconvert_exporter": "python",
   "pygments_lexer": "ipython3",
   "version": "3.12.0"
  }
 },
 "nbformat": 4,
 "nbformat_minor": 2
}
